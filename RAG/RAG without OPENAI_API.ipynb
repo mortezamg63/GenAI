{
 "cells": [
  {
   "cell_type": "code",
   "execution_count": 37,
   "metadata": {},
   "outputs": [],
   "source": [
    "from bs4 import BeautifulSoup, NavigableString\n",
    "from pathlib import Path\n",
    "# import ray\n",
    "import pandas as pd\n",
    "import torch\n",
    "import time\n",
    "from transformers import AutoTokenizer, AutoModel\n",
    "import pickle"
   ]
  },
  {
   "cell_type": "code",
   "execution_count": 64,
   "metadata": {},
   "outputs": [
    {
     "name": "stdout",
     "output_type": "stream",
     "text": [
      "path    3396\n",
      "dtype: int64 documents\n"
     ]
    }
   ],
   "source": [
    "EFS_DIR='dataset'\n",
    "# Ray dataset\n",
    "DOCS_DIR = Path(EFS_DIR, \"docs.ray.io/en/master/\")\n",
    "input_data=[{\"path\": path} for path in DOCS_DIR.rglob(\"*.html\") if not path.is_dir()]\n",
    "# ds = ray.data.from_items(input_data)\n",
    "df = pd.DataFrame(input_data)\n",
    "print(f\"{df.count()} documents\")"
   ]
  },
  {
   "cell_type": "code",
   "execution_count": 65,
   "metadata": {},
   "outputs": [
    {
     "data": {
      "text/html": [
       "<div>\n",
       "<style scoped>\n",
       "    .dataframe tbody tr th:only-of-type {\n",
       "        vertical-align: middle;\n",
       "    }\n",
       "\n",
       "    .dataframe tbody tr th {\n",
       "        vertical-align: top;\n",
       "    }\n",
       "\n",
       "    .dataframe thead th {\n",
       "        text-align: right;\n",
       "    }\n",
       "</style>\n",
       "<table border=\"1\" class=\"dataframe\">\n",
       "  <thead>\n",
       "    <tr style=\"text-align: right;\">\n",
       "      <th></th>\n",
       "      <th>path</th>\n",
       "    </tr>\n",
       "  </thead>\n",
       "  <tbody>\n",
       "    <tr>\n",
       "      <th>0</th>\n",
       "      <td>dataset/docs.ray.io/en/master/index.html</td>\n",
       "    </tr>\n",
       "    <tr>\n",
       "      <th>1</th>\n",
       "      <td>dataset/docs.ray.io/en/master/genindex.html</td>\n",
       "    </tr>\n",
       "    <tr>\n",
       "      <th>2</th>\n",
       "      <td>dataset/docs.ray.io/en/master/search.html</td>\n",
       "    </tr>\n",
       "    <tr>\n",
       "      <th>3</th>\n",
       "      <td>dataset/docs.ray.io/en/master/joblib.html</td>\n",
       "    </tr>\n",
       "    <tr>\n",
       "      <th>4</th>\n",
       "      <td>dataset/docs.ray.io/en/master/tune.html</td>\n",
       "    </tr>\n",
       "  </tbody>\n",
       "</table>\n",
       "</div>"
      ],
      "text/plain": [
       "                                          path\n",
       "0     dataset/docs.ray.io/en/master/index.html\n",
       "1  dataset/docs.ray.io/en/master/genindex.html\n",
       "2    dataset/docs.ray.io/en/master/search.html\n",
       "3    dataset/docs.ray.io/en/master/joblib.html\n",
       "4      dataset/docs.ray.io/en/master/tune.html"
      ]
     },
     "execution_count": 65,
     "metadata": {},
     "output_type": "execute_result"
    }
   ],
   "source": [
    "df.head()"
   ]
  },
  {
   "cell_type": "code",
   "execution_count": 66,
   "metadata": {},
   "outputs": [],
   "source": [
    "def extract_text_from_section(section):\n",
    "    texts = []\n",
    "    for elem in section.children:\n",
    "        if isinstance(elem, NavigableString):\n",
    "            if elem.strip():\n",
    "                texts.append(elem.strip())\n",
    "        elif elem.name == \"section\":\n",
    "            continue\n",
    "        else:\n",
    "            texts.append(elem.get_text().strip())\n",
    "    return \"\\n\".join(texts)\n",
    "\n",
    "def path_to_uri(path, scheme=\"https://\", domain=\"docs.ray.io\"):\n",
    "    return scheme + domain + str(path).split(domain)[-1]\n",
    "\n",
    "def extract_sections(record):\n",
    "    with open(record[\"path\"], \"r\", encoding=\"utf-8\") as html_file:\n",
    "        soup = BeautifulSoup(html_file, \"html.parser\")\n",
    "    sections = soup.find_all(\"section\")\n",
    "    section_list = []\n",
    "    for section in sections:\n",
    "        section_id = section.get(\"id\")\n",
    "        section_text = extract_text_from_section(section)\n",
    "        if section_id:\n",
    "            uri = path_to_uri(path=record[\"path\"])\n",
    "            section_list.append({\"source\": f\"{uri}#{section_id}\", \"text\": section_text})\n",
    "    return section_list"
   ]
  },
  {
   "cell_type": "code",
   "execution_count": 67,
   "metadata": {},
   "outputs": [
    {
     "data": {
      "text/plain": [
       "{'source': 'https://docs.ray.io/en/master/rllib/rllib-env.html#environments',\n",
       " 'text': '\\nEnvironments#\\nRLlib works with several different types of environments, including Farama-Foundation Gymnasium, user-defined, multi-agent, and also batched environments.\\nTip\\nNot all environments work with all algorithms. See the algorithm overview for more information.\\n'}"
      ]
     },
     "execution_count": 67,
     "metadata": {},
     "output_type": "execute_result"
    }
   ],
   "source": [
    "sample_html_fp = Path(EFS_DIR, \"docs.ray.io/en/master/rllib/rllib-env.html\")\n",
    "extract_sections({\"path\": sample_html_fp})[0]"
   ]
  },
  {
   "cell_type": "code",
   "execution_count": 68,
   "metadata": {},
   "outputs": [
    {
     "name": "stdout",
     "output_type": "stream",
     "text": [
      "Elapsed time:  363.3840878009796\n"
     ]
    }
   ],
   "source": [
    "# Extract sections\n",
    "# sections_ds = ds.flat_map(extract_sections)\n",
    "# sections_ds.count()\n",
    "# sections = sections_ds.take_all()\n",
    "# print (len(sections))\n",
    "import time\n",
    "s1=time.time()\n",
    "data_processed0 = []\n",
    "for dt in input_data:\n",
    "    data_processed0.extend(extract_sections(dt))\n",
    "print('Elapsed time: ', time.time()-s1)\n",
    "# df"
   ]
  },
  {
   "cell_type": "code",
   "execution_count": 69,
   "metadata": {},
   "outputs": [
    {
     "data": {
      "text/html": [
       "<div>\n",
       "<style scoped>\n",
       "    .dataframe tbody tr th:only-of-type {\n",
       "        vertical-align: middle;\n",
       "    }\n",
       "\n",
       "    .dataframe tbody tr th {\n",
       "        vertical-align: top;\n",
       "    }\n",
       "\n",
       "    .dataframe thead th {\n",
       "        text-align: right;\n",
       "    }\n",
       "</style>\n",
       "<table border=\"1\" class=\"dataframe\">\n",
       "  <thead>\n",
       "    <tr style=\"text-align: right;\">\n",
       "      <th></th>\n",
       "      <th>source</th>\n",
       "      <th>text</th>\n",
       "    </tr>\n",
       "  </thead>\n",
       "  <tbody>\n",
       "    <tr>\n",
       "      <th>0</th>\n",
       "      <td>https://docs.ray.io/en/master/joblib.html#dist...</td>\n",
       "      <td>\\nDistributed Scikit-learn / Joblib#\\nRay supp...</td>\n",
       "    </tr>\n",
       "    <tr>\n",
       "      <th>1</th>\n",
       "      <td>https://docs.ray.io/en/master/joblib.html#quic...</td>\n",
       "      <td>Quickstart#\\nTo get started, first install Ray...</td>\n",
       "    </tr>\n",
       "    <tr>\n",
       "      <th>2</th>\n",
       "      <td>https://docs.ray.io/en/master/joblib.html#run-...</td>\n",
       "      <td>Run on a Cluster#\\nThis section assumes that y...</td>\n",
       "    </tr>\n",
       "    <tr>\n",
       "      <th>3</th>\n",
       "      <td>https://docs.ray.io/en/master/tune.html#ray-tu...</td>\n",
       "      <td>\\nRay Tune: Hyperparameter Tuning#\\n\\n\\nTune i...</td>\n",
       "    </tr>\n",
       "    <tr>\n",
       "      <th>4</th>\n",
       "      <td>https://docs.ray.io/en/master/tune.html#why-ch...</td>\n",
       "      <td>Why choose Tune?#\\nThere are many other hyperp...</td>\n",
       "    </tr>\n",
       "  </tbody>\n",
       "</table>\n",
       "</div>"
      ],
      "text/plain": [
       "                                              source  \\\n",
       "0  https://docs.ray.io/en/master/joblib.html#dist...   \n",
       "1  https://docs.ray.io/en/master/joblib.html#quic...   \n",
       "2  https://docs.ray.io/en/master/joblib.html#run-...   \n",
       "3  https://docs.ray.io/en/master/tune.html#ray-tu...   \n",
       "4  https://docs.ray.io/en/master/tune.html#why-ch...   \n",
       "\n",
       "                                                text  \n",
       "0  \\nDistributed Scikit-learn / Joblib#\\nRay supp...  \n",
       "1  Quickstart#\\nTo get started, first install Ray...  \n",
       "2  Run on a Cluster#\\nThis section assumes that y...  \n",
       "3  \\nRay Tune: Hyperparameter Tuning#\\n\\n\\nTune i...  \n",
       "4  Why choose Tune?#\\nThere are many other hyperp...  "
      ]
     },
     "execution_count": 69,
     "metadata": {},
     "output_type": "execute_result"
    }
   ],
   "source": [
    "df = pd.DataFrame(data_processed0)\n",
    "df.head()"
   ]
  },
  {
   "cell_type": "code",
   "execution_count": 70,
   "metadata": {},
   "outputs": [],
   "source": [
    "# section_lengths = []\n",
    "# for section in sections_ds.take_all():\n",
    "#     section_lengths.append(len(section[\"text\"]))\n",
    "section_lengths = []\n",
    "for section in data_processed0:\n",
    "    section_lengths.append(len(section['text']))"
   ]
  },
  {
   "cell_type": "code",
   "execution_count": 71,
   "metadata": {},
   "outputs": [],
   "source": [
    "import warnings\n",
    "warnings.filterwarnings(\"ignore\")\n"
   ]
  },
  {
   "cell_type": "code",
   "execution_count": 72,
   "metadata": {},
   "outputs": [
    {
     "data": {
      "image/png": "[encoded data removed]",
      "text/plain": [
       "<Figure size 1200x300 with 1 Axes>"
      ]
     },
     "metadata": {},
     "output_type": "display_data"
    }
   ],
   "source": [
    "# Plot\n",
    "import matplotlib.pyplot as plt\n",
    "plt.figure(figsize=(12, 3))\n",
    "plt.plot(section_lengths, marker='o')\n",
    "plt.title(\"Section lengths\")\n",
    "plt.ylabel(\"# chars\")\n",
    "plt.show()"
   ]
  },
  {
   "cell_type": "code",
   "execution_count": 73,
   "metadata": {},
   "outputs": [],
   "source": [
    "from functools import partial\n",
    "from langchain.text_splitter import RecursiveCharacterTextSplitter"
   ]
  },
  {
   "cell_type": "code",
   "execution_count": 74,
   "metadata": {},
   "outputs": [],
   "source": [
    "# Text splitter\n",
    "chunk_size=300\n",
    "chunk_overlap=50\n",
    "text_splitter = RecursiveCharacterTextSplitter(\n",
    "    separators=[\"\\n\\n\",\"\\n\", \" \", \"\"],\n",
    "    chunk_size=chunk_size,\n",
    "    chunk_overlap=chunk_overlap,\n",
    "    length_function=len\n",
    ")"
   ]
  },
  {
   "cell_type": "markdown",
   "metadata": {},
   "source": [
    "# Try one example for chunking"
   ]
  },
  {
   "cell_type": "code",
   "execution_count": 75,
   "metadata": {},
   "outputs": [],
   "source": [
    "sample_section = data_processed0[0]\n",
    "chunks = text_splitter.create_documents(\n",
    "    texts=[sample_section['text']],\n",
    "    metadatas=[{'source':sample_section['source']}]\n",
    ")"
   ]
  },
  {
   "cell_type": "code",
   "execution_count": 76,
   "metadata": {},
   "outputs": [
    {
     "name": "stdout",
     "output_type": "stream",
     "text": [
      "length of text:  404 \n",
      " Number of chunks:  2\n"
     ]
    }
   ],
   "source": [
    "print('length of text: ',len(sample_section['text']), '\\n Number of chunks: ', len(chunks))"
   ]
  },
  {
   "cell_type": "code",
   "execution_count": 77,
   "metadata": {},
   "outputs": [
    {
     "name": "stdout",
     "output_type": "stream",
     "text": [
      "page_content='Distributed Scikit-learn / Joblib#\n",
      "Ray supports running distributed scikit-learn programs by\n",
      "implementing a Ray backend for joblib using Ray Actors\n",
      "instead of local processes. This makes it easy to scale existing applications\n",
      "that use scikit-learn from a single node to a cluster.\n",
      "Note' metadata={'source': 'https://docs.ray.io/en/master/joblib.html#distributed-scikit-learn-joblib'}\n",
      "chunk's length: 285\n"
     ]
    }
   ],
   "source": [
    "print(chunks[0])\n",
    "\n",
    "print('chunk\\'s length:', len(chunks[0].page_content))"
   ]
  },
  {
   "cell_type": "code",
   "execution_count": 78,
   "metadata": {},
   "outputs": [
    {
     "name": "stdout",
     "output_type": "stream",
     "text": [
      "page_content='Note\n",
      "This API is new and may be revised in future Ray releases. If you encounter\n",
      "any bugs, please file an issue on GitHub.' metadata={'source': 'https://docs.ray.io/en/master/joblib.html#distributed-scikit-learn-joblib'}\n",
      "chunk's length: 122\n"
     ]
    }
   ],
   "source": [
    "print(chunks[1])\n",
    "print('chunk\\'s length:', len(chunks[1].page_content))"
   ]
  },
  {
   "cell_type": "markdown",
   "metadata": {},
   "source": [
    "# Chunkify all sections"
   ]
  },
  {
   "cell_type": "code",
   "execution_count": 79,
   "metadata": {},
   "outputs": [],
   "source": [
    "def chunk_section(section, chunk_size, chunk_overlap):\n",
    "    text_splitter = RecursiveCharacterTextSplitter(\n",
    "        separators=[\"\\n\\n\", \"\\n\", \" \", \"\"],\n",
    "        chunk_size=chunk_size,\n",
    "        chunk_overlap=chunk_overlap,\n",
    "        length_function=len)\n",
    "#     import pdb; pdb.set_trace()\n",
    "    chunks = text_splitter.create_documents(\n",
    "        texts=[section['text']], \n",
    "        metadatas=[{\"source\": section[\"source\"]}])\n",
    "    return [{\"text\": chunk.page_content, \"source\": chunk.metadata[\"source\"]} for chunk in chunks]"
   ]
  },
  {
   "cell_type": "code",
   "execution_count": 80,
   "metadata": {},
   "outputs": [],
   "source": [
    "chunk_ds =df.apply(chunk_section,args=(chunk_size,chunk_overlap), axis=1)"
   ]
  },
  {
   "cell_type": "code",
   "execution_count": 81,
   "metadata": {},
   "outputs": [
    {
     "name": "stdout",
     "output_type": "stream",
     "text": [
      "# chunks:  2\n",
      "# chunks:  6\n",
      "# chunks:  3\n",
      "# chunks:  10\n"
     ]
    }
   ],
   "source": [
    "print('# chunks: ',len(chunk_ds.head()[0]))\n",
    "print('# chunks: ',len(chunk_ds.head()[1]))\n",
    "print('# chunks: ',len(chunk_ds.head()[2]))\n",
    "print('# chunks: ',len(chunk_ds.head()[4]))"
   ]
  },
  {
   "cell_type": "code",
   "execution_count": 88,
   "metadata": {},
   "outputs": [],
   "source": [
    "import tiktoken\n",
    "\n",
    "def count_tokens(row, model=\"gpt-3.5-turbo\"):\n",
    "    # Initialize the tokenizer for the specified model']\n",
    "    encoding = tiktoken.encoding_for_model(model)\n",
    "    \n",
    "    # Encode the text to get the tokens\n",
    "    tokens=[]\n",
    "    for data in row:\n",
    "        tokens.extend(encoding.encode(data['text']))\n",
    "    \n",
    "    # Return the number of tokens\n",
    "    return len(tokens)\n",
    "\n",
    "# # Example usage:\n",
    "# chunk = \"This is an example chunk of text.\"\n",
    "# num_tokens = count_tokens(chunk)\n",
    "# print(f\"Number of tokens: {num_tokens}\")\n",
    "\n"
   ]
  },
  {
   "cell_type": "code",
   "execution_count": 98,
   "metadata": {},
   "outputs": [
    {
     "data": {
      "text/plain": [
       "1623116"
      ]
     },
     "execution_count": 98,
     "metadata": {},
     "output_type": "execute_result"
    }
   ],
   "source": [
    "# chunk_ds.to_frame().columns\n",
    "chunk_ds.apply(count_tokens).sum()\n"
   ]
  },
  {
   "cell_type": "markdown",
   "metadata": {},
   "source": [
    "# Embed data"
   ]
  },
  {
   "cell_type": "code",
   "execution_count": 58,
   "metadata": {},
   "outputs": [],
   "source": [
    "from transformers import AutoTokenizer, AutoModel\n",
    "# model_name = 'thenlper/gte-small'\n",
    "model_name = 'databricks/dolly-v2-3b'\n",
    "tokenizer = AutoTokenizer.from_pretrained(model_name)\n",
    "model = AutoModel.from_pretrained(model_name)\n"
   ]
  },
  {
   "cell_type": "code",
   "execution_count": 59,
   "metadata": {},
   "outputs": [],
   "source": [
    "def encode_sentence(sentences):\n",
    "  # Tokenize the sentences\n",
    "  encoded_input = tokenizer(sentences, padding=True, truncation=True, return_tensors='pt')\n",
    "  # Generate embeddings\n",
    "  with torch.no_grad():\n",
    "    model_output = model(**encoded_input)\n",
    "\n",
    "  # Pooling strategy (adjust as needed)\n",
    "  sentence_embeddings = model_output.last_hidden_state[:,0,:] #pooler_output\n",
    "\n",
    "  return sentence_embeddings"
   ]
  },
  {
   "cell_type": "code",
   "execution_count": 31,
   "metadata": {},
   "outputs": [],
   "source": [
    "seg=len(chunk_ds)//100\n",
    "for i in range(34,100):\n",
    "    print('i: ',i,', start: ', seg*i, ', end: ',seg*(i+1))"
   ]
  },
  {
   "cell_type": "code",
   "execution_count": 32,
   "metadata": {},
   "outputs": [],
   "source": [
    "\n",
    "def batch_process(sentences):\n",
    "    texts = [item['text'] for item in sentences]\n",
    "    sources = [item['source'] for item in sentences]\n",
    "    embeddings = encode_sentence(texts)\n",
    "    output=[]\n",
    "#     import pdb; pdb.set_trace()\n",
    "    for ii,src in enumerate(sources):\n",
    "        output.append({\"text\":texts[ii],\"source\":sources[ii], \"embedding\":embeddings[ii]})\n",
    "    return output\n",
    "import pickle\n",
    "def write_list(a_list,filename):\n",
    "    with open(filename,'wb') as fp:\n",
    "        pickle.dump(a_list,fp)"
   ]
  },
  {
   "cell_type": "code",
   "execution_count": null,
   "metadata": {},
   "outputs": [
    {
     "name": "stderr",
     "output_type": "stream",
     "text": [
      "Asking to truncate to max_length but no maximum length is provided and the model has no predefined maximum length. Default to no truncation.\n"
     ]
    }
   ],
   "source": [
    "embedded_chunks=[]\n",
    "num_segs=100\n",
    "seg=len(chunk_ds)//num_segs\n",
    "for i in range(34,100):#range(num_segs):\n",
    "    s1=time.time()\n",
    "    embedded_chunks= chunk_ds[i*seg:(i+1)*seg].apply(batch_process)\n",
    "    write_list(embedded_chunks,'embedding_seg'+str(i+1)+'.pkl')\n",
    "    print(\"Elapsed time for seg \", str(i+1),\": \", time.time()-s1)\n"
   ]
  },
  {
   "cell_type": "code",
   "execution_count": null,
   "metadata": {},
   "outputs": [],
   "source": [
    "# out=batch_process(chunk_ds[0])\n",
    "\n",
    "\n",
    "write_list(embedded_chunks)"
   ]
  },
  {
   "cell_type": "code",
   "execution_count": 10,
   "metadata": {},
   "outputs": [],
   "source": [
    "def read_list(filename):\n",
    "    with open(filename, 'rb') as fp:\n",
    "        return pickle.load(fp)\n",
    "ret1 = read_list('embedding_seg1.pkl')\n",
    "ret2 = read_list('embedding_seg2.pkl')"
   ]
  },
  {
   "cell_type": "code",
   "execution_count": 33,
   "metadata": {},
   "outputs": [
    {
     "data": {
      "text/plain": [
       "torch.Size([2560])"
      ]
     },
     "execution_count": 33,
     "metadata": {},
     "output_type": "execute_result"
    }
   ],
   "source": [
    "ret1[0][0]['embedding'].shape"
   ]
  },
  {
   "cell_type": "code",
   "execution_count": 37,
   "metadata": {},
   "outputs": [
    {
     "data": {
      "text/plain": [
       "(60, 120)"
      ]
     },
     "execution_count": 37,
     "metadata": {},
     "output_type": "execute_result"
    }
   ],
   "source": [
    "total_rets=[]\n",
    "total_rets.extend(ret1)\n",
    "total_rets.extend(ret2)\n",
    "len(ret1), len(total_rets)"
   ]
  },
  {
   "cell_type": "code",
   "execution_count": 47,
   "metadata": {},
   "outputs": [
    {
     "name": "stdout",
     "output_type": "stream",
     "text": [
      "811\n"
     ]
    }
   ],
   "source": [
    "count=0\n",
    "for i in range(len(total_rets)):\n",
    "    for j in range(len(total_rets[i])):\n",
    "        total_rets[i][j]['text']\n",
    "        total_rets[i][j]['embedding']\n",
    "        total_rets[i][j]['source']\n",
    "        count+=1\n",
    "print(count)\n"
   ]
  },
  {
   "cell_type": "markdown",
   "metadata": {},
   "source": [
    "# Vector DB"
   ]
  },
  {
   "cell_type": "code",
   "execution_count": 31,
   "metadata": {},
   "outputs": [],
   "source": [
    "# !pip install pgvector-haystack\n",
    "import psycopg\n",
    "from pgvector.psycopg import register_vector"
   ]
  },
  {
   "cell_type": "code",
   "execution_count": 52,
   "metadata": {},
   "outputs": [],
   "source": [
    "class pgvectorManager:\n",
    "    def __init__(self, dbname='postgres', user='postgres',password_file=r'postgres_password.txt'):\n",
    "        self.dbname=dbname\n",
    "        self.user=user\n",
    "        self.password=self.get_password(password_file)\n",
    "        # Connect to postgres and create the vector extension\n",
    "        if self.password is None:\n",
    "            raise ValueError(\"Failed to retrieve te database password.\")\n",
    "            self.conn=psycopg.connect(dbname=self.dbname, autocommit=True, user=self.user, password=self.password)\n",
    "            self.conn.execute('CREATE EXTENSION IF NOT EXISTS vector')\n",
    "            register_vector(self.conn)\n",
    "            self.vector_size=2560\n",
    "            self.texts=None\n",
    "            self.embeddings=None\n",
    "        \n",
    "    @staticmethod\n",
    "    def get_password(password_file):\n",
    "        try:\n",
    "            with open(password_file,'r') as file:\n",
    "                password = file.read().strip()\n",
    "        except FileNotFoundError:\n",
    "            print(f\"The file '{password_file}' does not exist.\")\n",
    "            password=None\n",
    "        except Exception as e:\n",
    "            print(f\"An error occurred: {e}\")\n",
    "            password=None\n",
    "        return password\n",
    "        \n",
    "    def read_embedding_file(self,filename):\n",
    "        with open(filename, 'rb') as fp:\n",
    "            return pickle.load(fp)\n",
    "    \n",
    "    def create_embeddings(self):\n",
    "        # read all embedding_segs and return them\n",
    "        # self.embeddings = self.model.encode(texts)\n",
    "        # self.vector_size = self.embeddings.shape[1]\n",
    "        self.total_data=[]\n",
    "        for i in range(100):\n",
    "            self.total_data.extend(read_embedding_file('embedding_seg'+str(i+1)+'.pkl'))\n",
    "        return self.total_data\n",
    "        \n",
    "    def create_documents_table(self):\n",
    "        self.conn.execute('DROP TABLE IF EXISTS documents')\n",
    "        self.conn.execute('CREATE TABLE documents (id bigserial PRIMARY KEY, content text, '\n",
    "                          'embedding vector('+str(self.vector_size)+'))')\n",
    "    \n",
    "    \n",
    "    def insert_documents(self):\n",
    "        if self.total_data is None:# or len(self.texts)!=len(self.embeddings):\n",
    "            raise ValueError(\"Mismatch between texts and embeddings. Ensure embeddings are created before inserting.\")\n",
    "            \n",
    "        for i in range(len(total_data)):\n",
    "            for j in range(len(total_dta[i])):\n",
    "                total_data[i][j]['embedding']\n",
    "                total_data[i][j]['source']\n",
    "                self.conn.execute('INSERT INTO documents (text, source, embedding) VALUES (%s,%s,%s)', \n",
    "                                  (self.total_data[i][j]['text'], self.total_data[i][j]['source'], self.total_data[i][j]['embedding']))\n",
    "#         for content, embedding in zip(self.texts, self.embeddings):\n",
    "#             self.conn.execute('INSERT INTO documents (content, embedding) VALUES (%s,%s)', (content, embedding))\n",
    "    \n",
    "    def store_documents(self, data):\n",
    "        self.create_embeddings()\n",
    "        self.create_document_table()\n",
    "        self.insert_documents()\n",
    "    \n",
    "    def find_neighbors(self, document_id=1):\n",
    "        neighbors = self.conn.execute('SELECT *,(embedding<=>%s) AS similarity_score FROM documents ORDER BY similarity_score LIMIT %s', (embedding, num_chunks))\n",
    "                                      #WHERE id != %(id)s ORDER BY embedding <=> '\n",
    "#                                      'SELECT embedding from documents wher id=%(id)s) LIMIT5',\n",
    "#                                      {'id':document_id}).fetchall()\n",
    "        for neighbor in neghbors:\n",
    "            print(neighbor[0])"
   ]
  },
  {
   "cell_type": "markdown",
   "metadata": {},
   "source": [
    "#### Because vectorDB is not installed, we use faiss library"
   ]
  },
  {
   "cell_type": "code",
   "execution_count": 1,
   "metadata": {},
   "outputs": [],
   "source": [
    "import pickle\n",
    "def read_embedding_file(filename):\n",
    "    with open(filename, 'rb') as fp:\n",
    "        return pickle.load(fp)"
   ]
  },
  {
   "cell_type": "code",
   "execution_count": 2,
   "metadata": {},
   "outputs": [
    {
     "data": {
      "application/vnd.jupyter.widget-view+json": {
       "model_id": "e87351c7090f4e5facc2da83aa24484c",
       "version_major": 2,
       "version_minor": 0
      },
      "text/plain": [
       "  0%|          | 0/100 [00:00<?, ?it/s]"
      ]
     },
     "metadata": {},
     "output_type": "display_data"
    }
   ],
   "source": [
    "from tqdm.notebook import tqdm\n",
    "\n",
    "remove_list=[28,29,30,31,34,35]\n",
    "total_data=[]\n",
    "for i in tqdm(range(100)):\n",
    "    if i+1 in remove_list: \n",
    "        continue\n",
    "#     print('embedding_seg'+str(i+1)+'.pkl')\n",
    "    total_data.extend(read_embedding_file('embedding_seg'+str(i+1)+'.pkl'))\n"
   ]
  },
  {
   "cell_type": "code",
   "execution_count": 60,
   "metadata": {},
   "outputs": [
    {
     "data": {
      "text/plain": [
       "395"
      ]
     },
     "execution_count": 60,
     "metadata": {},
     "output_type": "execute_result"
    }
   ],
   "source": [
    "len(total_data)"
   ]
  },
  {
   "cell_type": "code",
   "execution_count": 34,
   "metadata": {},
   "outputs": [],
   "source": [
    "# 1-28, 30=360, 32=369,33=705, 36=576, 37=193,38=219, 37=193, 38=219, 39=174, 40=207, 41=107, 42=142, 43=246, 44=153, 45=168, 46=334, 47=465, 48=421\n",
    "# 49=360, 50=193, 51=247, 52=153, 53=128, 54=105, 55=328, 56=754, 57=614, 58=614, 59=609, 60=249, 61=95, 62=99, 63=511, 64=212\n",
    "# 65=267, 66=197, 67=219, 68=216, 69=211, 70=210, 71=220, 72=127, 73=120, 74=90, 75=195, 76=138, 77=313, 78=175, 79=384,\n",
    "#80=238, 81=353,82=229, 83=313, 84=226, 85=156, 86=193,87=208, 88=216, 89=204, 90=213, 91=312, 92=225, 93=225, 94=288\n",
    "# 95=122, 96=380, 97=160, 98=99, 99=132, 100=201\n",
    "# after storing the data in total_data list, we only use 5246 out of 5640 elements of list to fit data in the memory"
   ]
  },
  {
   "cell_type": "code",
   "execution_count": 5,
   "metadata": {},
   "outputs": [],
   "source": [
    "import torch.utils.data as data\n",
    "import torch\n",
    "class MyDataset(data.Dataset):\n",
    "    def __init__(self,data):\n",
    "        self.data = data\n",
    "        self.count=0\n",
    "        self.Process_data()\n",
    "        \n",
    "    def __len__(self):\n",
    "        return self.count\n",
    "    \n",
    "    def Process_data(self):\n",
    "        self.total_data_text=[]\n",
    "        self.total_data_source=[]\n",
    "        self.total_data_embedding=[]\n",
    "        \n",
    "#         for elem in tqdm(self.data):\n",
    "#         import pdb; pdb.set_trace()\n",
    "        i=0\n",
    "        while len(self.data)>0:\n",
    "            if i==5245: break\n",
    "            elem = self.data[0]\n",
    "#             if i==5246: break # exit the for loop because of the lack of memory\n",
    "            for j in range(len(elem)):\n",
    "                self.total_data_source.append(elem[j]['source'])\n",
    "                self.total_data_text.append(elem[j]['text'])\n",
    "                self.total_data_embedding.append(elem[j]['embedding'])\n",
    "                self.count+=1\n",
    "            self.data.remove(elem)\n",
    "            i+=1\n",
    "            \n",
    "#         for i in tqdm(range(len(self.data))):\n",
    "# #             if i==5246: break # exit the for loop because of the lack of memory\n",
    "#             for j in range(len(self.data[i])):\n",
    "#                 self.total_data_source.extend(self.data[i][j]['source'])\n",
    "#                 self.total_data_text.extend(self.data[i][j]['text'])\n",
    "#                 self.total_data_embedding.extend(self.data[i][j]['embedding'])\n",
    "#                 self.count+=1\n",
    "#             self.data.remove(self.data[i])\n",
    "    \n",
    "    def __getitem__(self,idx):\n",
    "        return torch.tensor(self.total_data_embedding[idx]), self.total_data_text[idx], self.total_data_source[idx]\n",
    "    def __len__(self):\n",
    "        return len(self.total_data_source)\n",
    "        "
   ]
  },
  {
   "cell_type": "code",
   "execution_count": 6,
   "metadata": {},
   "outputs": [],
   "source": [
    "from torch.utils.data import DataLoader\n",
    "dataset = MyDataset(total_data)\n",
    "dataloader = DataLoader(dataset, batch_size=32, shuffle=False)"
   ]
  },
  {
   "cell_type": "markdown",
   "metadata": {},
   "source": [
    "### Build an Index via faiss"
   ]
  },
  {
   "cell_type": "code",
   "execution_count": 15,
   "metadata": {},
   "outputs": [
    {
     "name": "stdout",
     "output_type": "stream",
     "text": [
      "Defaulting to user installation because normal site-packages is not writeable\n",
      "\u001b[33mWARNING: Ignoring invalid distribution -orch (/home/cs_mmoha014/.local/lib/python3.8/site-packages)\u001b[0m\u001b[33m\n",
      "\u001b[0mCollecting faiss-gpu\n",
      "  Downloading faiss_gpu-1.7.2-cp38-cp38-manylinux_2_17_x86_64.manylinux2014_x86_64.whl.metadata (1.4 kB)\n",
      "Downloading faiss_gpu-1.7.2-cp38-cp38-manylinux_2_17_x86_64.manylinux2014_x86_64.whl (85.5 MB)\n",
      "\u001b[2K   \u001b[90m━━━━━━━━━━━━━━━━━━━━━━━━━━━━━━━━━━━━━━━━\u001b[0m \u001b[32m85.5/85.5 MB\u001b[0m \u001b[31m80.7 MB/s\u001b[0m eta \u001b[36m0:00:00\u001b[0m00:01\u001b[0m00:01\u001b[0mm\n",
      "\u001b[?25h\u001b[33mWARNING: Ignoring invalid distribution -orch (/home/cs_mmoha014/.local/lib/python3.8/site-packages)\u001b[0m\u001b[33m\n",
      "\u001b[0mInstalling collected packages: faiss-gpu\n",
      "\u001b[33mWARNING: Ignoring invalid distribution -orch (/home/cs_mmoha014/.local/lib/python3.8/site-packages)\u001b[0m\u001b[33m\n",
      "\u001b[0mSuccessfully installed faiss-gpu-1.7.2\n"
     ]
    }
   ],
   "source": [
    "!pip install faiss-gpu"
   ]
  },
  {
   "cell_type": "code",
   "execution_count": 10,
   "metadata": {},
   "outputs": [
    {
     "name": "stderr",
     "output_type": "stream",
     "text": [
      "<ipython-input-5-c975d8ce400d>:42: UserWarning: To copy construct from a tensor, it is recommended to use sourceTensor.clone().detach() or sourceTensor.clone().detach().requires_grad_(True), rather than torch.tensor(sourceTensor).\n",
      "  return torch.tensor(self.total_data_embedding[idx]), self.total_data_text[idx], self.total_data_source[idx]\n"
     ]
    }
   ],
   "source": [
    "import faiss\n",
    "embedding_dim = 2560\n",
    "index = faiss.IndexFlatL2(embedding_dim)\n",
    "for batch in dataloader:\n",
    "    embeddings,_,_=batch\n",
    "    index.add(embeddings.numpy())\n"
   ]
  },
  {
   "cell_type": "markdown",
   "metadata": {},
   "source": [
    "# Retrieval\n",
    "WIth our embedded chunks indexed in faiss, we are ready to perform retrieval for a given query. We will start y using the same embedding model we used to embed our text chunks to embed incoming query.\n",
    "### Embed the query"
   ]
  },
  {
   "cell_type": "code",
   "execution_count": 61,
   "metadata": {},
   "outputs": [
    {
     "name": "stderr",
     "output_type": "stream",
     "text": [
      "Asking to truncate to max_length but no maximum length is provided and the model has no predefined maximum length. Default to no truncation.\n"
     ]
    }
   ],
   "source": [
    "# query = \"For multi-agent modules, what does RLlib implement?\"#\"What is the default batch size for map_batches?\"\n",
    "query=\"how does slurm deal with rerouting output? \" # What does Ray do for returning multiple objects?\"\n",
    "your_query_embedding = encode_sentence(query)"
   ]
  },
  {
   "cell_type": "code",
   "execution_count": 62,
   "metadata": {},
   "outputs": [
    {
     "name": "stderr",
     "output_type": "stream",
     "text": [
      "<ipython-input-62-bdaeaa275886>:2: UserWarning: To copy construct from a tensor, it is recommended to use sourceTensor.clone().detach() or sourceTensor.clone().detach().requires_grad_(True), rather than torch.tensor(sourceTensor).\n",
      "  query_embedding = torch.tensor(your_query_embedding)\n"
     ]
    }
   ],
   "source": [
    "# Find 5 nearest neighbors\n",
    "query_embedding = torch.tensor(your_query_embedding)\n",
    "distances, indices = index.search(query_embedding.numpy(), k=5)  "
   ]
  },
  {
   "cell_type": "markdown",
   "metadata": {},
   "source": [
    "### Find 5 nearest context and add to query"
   ]
  },
  {
   "cell_type": "code",
   "execution_count": 63,
   "metadata": {},
   "outputs": [
    {
     "name": "stdout",
     "output_type": "stream",
     "text": [
      "-------------------------------\n",
      "distance: 5.030272731687546e-08\n",
      "Text: how a stateful ConnectorV2 class has its states\n",
      "(here the means and standard deviations of the individual observation items) coming from the different\n",
      "EnvRunner instances a) merged into one common state and\n",
      "then b) broadcast again back to the remote EnvRunner workers., Source: https://docs.ray.io/en/master/rllib/rllib-examples.html#connectors\n",
      "-------------------------------\n",
      "distance: 5.030272731687546e-08\n",
      "Text: how many layers, what kind of filters, etc. They are defined before training, not learned., Source: https://docs.ray.io/en/master/tune/faq.html#what-are-hyperparameters\n",
      "-------------------------------\n",
      "distance: 1858.998046875\n",
      "Text: what Ray uses internally for its Object Store). The -t and -i options here are required to support\n",
      "interactive use of the container.\n",
      "If you use a GPU version Docker image, remember to add --gpus all option. Replace <ray-version> with your target ray version in the following command:, Source: https://docs.ray.io/en/master/ray-more-libs/installation.html#launch-ray-in-docker\n",
      "-------------------------------\n",
      "distance: 1858.998046875\n",
      "Text: what Ray uses internally for its Object Store). The -t and -i options here are required to support\n",
      "interactive use of the container.\n",
      "If you use a GPU version Docker image, remember to add --gpus all option. Replace <ray-version> with your target ray version in the following command:, Source: https://docs.ray.io/en/master/installation.html#launch-ray-in-docker\n",
      "-------------------------------\n",
      "distance: 1858.998046875\n",
      "Text: what Ray uses internally for its Object Store). The -t and -i options here are required to support\n",
      "interactive use of the container.\n",
      "If you use a GPU version Docker image, remember to add --gpus all option. Replace <ray-version> with your target ray version in the following command:, Source: https://docs.ray.io/en/master/ray-overview/installation.html#launch-ray-in-docker\n",
      "add query to context\n",
      "************************** Context **************************\n",
      "how a stateful ConnectorV2 class has its states\n",
      "(here the means and standard deviations of the individual observation items) coming from the different\n",
      "EnvRunner instances a) merged into one common state and\n",
      "then b) broadcast again back to the remote EnvRunner workers.\n",
      "how many layers, what kind of filters, etc. They are defined before training, not learned.\n",
      "what Ray uses internally for its Object Store). The -t and -i options here are required to support\n",
      "interactive use of the container.\n",
      "If you use a GPU version Docker image, remember to add --gpus all option. Replace <ray-version> with your target ray version in the following command:\n",
      "what Ray uses internally for its Object Store). The -t and -i options here are required to support\n",
      "interactive use of the container.\n",
      "If you use a GPU version Docker image, remember to add --gpus all option. Replace <ray-version> with your target ray version in the following command:\n",
      "what Ray uses internally for its Object Store). The -t and -i options here are required to support\n",
      "interactive use of the container.\n",
      "If you use a GPU version Docker image, remember to add --gpus all option. Replace <ray-version> with your target ray version in the following command:\n",
      "how does slurm deal with rerouting output? \n"
     ]
    },
    {
     "name": "stderr",
     "output_type": "stream",
     "text": [
      "<ipython-input-5-c975d8ce400d>:42: UserWarning: To copy construct from a tensor, it is recommended to use sourceTensor.clone().detach() or sourceTensor.clone().detach().requires_grad_(True), rather than torch.tensor(sourceTensor).\n",
      "  return torch.tensor(self.total_data_embedding[idx]), self.total_data_text[idx], self.total_data_source[idx]\n"
     ]
    }
   ],
   "source": [
    "# Retrieve corresponding text and source\n",
    "context = \"\"\n",
    "\n",
    "for i,idx in enumerate(indices[0]):\n",
    "    print(\"-------------------------------\")\n",
    "    text = dataset[idx][1]\n",
    "    context+=text+\"\\n\"\n",
    "    source = dataset[idx][2]\n",
    "    print(f\"distance: {distances[0][i]}\")\n",
    "    print(f\"Text: {text}, Source: {source}\")\n",
    "print(\"add query to context\")\n",
    "context+=query\n",
    "print(\"************************** Context **************************\")\n",
    "print(context)"
   ]
  },
  {
   "cell_type": "markdown",
   "metadata": {},
   "source": [
    "###### Retrieved texts/docs are not relevant. Perhaps, the reason is that the related documents do not exist in embedding list, because we removed some documents to fit embeddings in memory. The other thing can be related to model selection for embedding."
   ]
  },
  {
   "cell_type": "markdown",
   "metadata": {},
   "source": [
    "# Generation\n",
    "We can now use the context to generate a response from our LLM. Without this relevant context that we retrieved, the LLM may not have been able to accurately answer our questions. And as our data grows, we can just as easily embed and index any new data and be able to retrieve it to answer the question"
   ]
  },
  {
   "cell_type": "code",
   "execution_count": 47,
   "metadata": {},
   "outputs": [],
   "source": [
    "from transformers import AutoModelForSeq2SeqLM, AutoTokenizer, GenerationConfig"
   ]
  },
  {
   "cell_type": "code",
   "execution_count": 48,
   "metadata": {},
   "outputs": [],
   "source": [
    "model_name='google/flan-t5-base'\n",
    "model = AutoModelForSeq2SeqLM.from_pretrained(model_name)\n",
    "tokenizer  = AutoTokenizer.from_pretrained(model_name, use_fast=True)"
   ]
  },
  {
   "cell_type": "code",
   "execution_count": 51,
   "metadata": {},
   "outputs": [
    {
     "name": "stdout",
     "output_type": "stream",
     "text": [
      "# Ray programs are able to parallelize and distribute by leveraging an underlying Ray runtime.\n"
     ]
    }
   ],
   "source": [
    "sentence_encoded = tokenizer(context, return_tensors='pt')\n",
    "model_output = model.generate(sentence_encoded['input_ids'], max_new_tokens=50,)\n",
    "output = tokenizer.decode(model_output[0], skip_special_tokens=True)\n",
    "print(output)"
   ]
  }
 ],
 "metadata": {
  "kernelspec": {
   "display_name": "Python 3",
   "language": "python",
   "name": "python3"
  },
  "language_info": {
   "codemirror_mode": {
    "name": "ipython",
    "version": 3
   },
   "file_extension": ".py",
   "mimetype": "text/x-python",
   "name": "python",
   "nbconvert_exporter": "python",
   "pygments_lexer": "ipython3",
   "version": "3.8.10"
  }
 },
 "nbformat": 4,
 "nbformat_minor": 2
}
